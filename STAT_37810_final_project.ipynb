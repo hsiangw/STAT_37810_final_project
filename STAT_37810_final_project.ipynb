{
  "nbformat": 4,
  "nbformat_minor": 0,
  "metadata": {
    "colab": {
      "name": "STAT 37810 final project.ipynb",
      "provenance": []
    },
    "kernelspec": {
      "name": "python3",
      "display_name": "Python 3"
    }
  },
  "cells": [
    {
      "cell_type": "code",
      "metadata": {
        "id": "gfGU1nXehIdb"
      },
      "source": [
        "import numpy as np\n",
        "import matplotlib.pyplot as plt\n"
      ],
      "execution_count": null,
      "outputs": []
    },
    {
      "cell_type": "markdown",
      "metadata": {
        "id": "HiC_gKsLqVMP"
      },
      "source": [
        "The algorithm starts from create empty matrix to store x and y. For each iteration, update x(y) from condition of y(x)."
      ]
    },
    {
      "cell_type": "code",
      "metadata": {
        "id": "NJ7yNFOIhdbE"
      },
      "source": [
        "def rconditional(variable,B):\n",
        "  \"\"\"\n",
        "  This function generates random value from conditional distribution\n",
        "  \"\"\"\n",
        "  x=6\n",
        "  while(x>B):\n",
        "    x=np.random.exponential(1/variable)\n",
        "  return x"
      ],
      "execution_count": null,
      "outputs": []
    },
    {
      "cell_type": "code",
      "metadata": {
        "id": "OxUKLgQfhgS1"
      },
      "source": [
        "def gibbs(B,nsample):\n",
        "  \"\"\"\n",
        "  This function generates random draw from gibbs sampling\n",
        "  \"\"\"\n",
        "  mat=np.empty((nsample+1,2))\n",
        "  mat[0,:]=[1,1] #initialize x , y\n",
        "  for i in range(nsample):\n",
        "    currenty=mat[i,1]\n",
        "    x=rconditional(currenty,B)\n",
        "    y=rconditional(x,B)\n",
        "    mat[i+1,0]=x\n",
        "    mat[i+1,1]=y\n",
        "  return mat"
      ],
      "execution_count": null,
      "outputs": []
    },
    {
      "cell_type": "code",
      "metadata": {
        "id": "pJ3o2XsJi1yV"
      },
      "source": [
        "g500=gibbs(5,500)\n",
        "g5000=gibbs(5,5000)\n",
        "g50000=gibbs(5,50000)"
      ],
      "execution_count": null,
      "outputs": []
    },
    {
      "cell_type": "code",
      "metadata": {
        "id": "ouIEZUC1owx3",
        "outputId": "abdbb625-a17b-43fa-fdf8-de6cd90132d0",
        "colab": {
          "base_uri": "https://localhost:8080/",
          "height": 851
        }
      },
      "source": [
        "plt.hist(g500[:,0])\n",
        "plt.xlabel(\"x\")\n",
        "plt.ylabel(\"count\")\n",
        "plt.title(\"nsample=500\")\n",
        "plt.show()\n",
        "plt.hist(g5000[:,0])\n",
        "plt.xlabel(\"x\")\n",
        "plt.ylabel(\"count\")\n",
        "plt.title(\"nsample=5000\")\n",
        "plt.show()\n",
        "plt.hist(g50000[:,0])\n",
        "plt.xlabel(\"x\")\n",
        "plt.ylabel(\"count\")\n",
        "plt.title(\"nsample=50000\")\n",
        "plt.show()"
      ],
      "execution_count": null,
      "outputs": [
        {
          "output_type": "display_data",
          "data": {
            "image/png": "[encoded data removed]",
            "text/plain": [
              "<Figure size 432x288 with 1 Axes>"
            ]
          },
          "metadata": {
            "tags": [],
            "needs_background": "light"
          }
        },
        {
          "output_type": "display_data",
          "data": {
            "image/png": "[encoded data removed]",
            "text/plain": [
              "<Figure size 432x288 with 1 Axes>"
            ]
          },
          "metadata": {
            "tags": [],
            "needs_background": "light"
          }
        },
        {
          "output_type": "display_data",
          "data": {
            "image/png": "[encoded data removed]",
            "text/plain": [
              "<Figure size 432x288 with 1 Axes>"
            ]
          },
          "metadata": {
            "tags": [],
            "needs_background": "light"
          }
        }
      ]
    },
    {
      "cell_type": "code",
      "metadata": {
        "id": "VBbYfGNqi4xt",
        "outputId": "cf19929f-b0c6-4db4-8fdb-9fac7ae787f7",
        "colab": {
          "base_uri": "https://localhost:8080/"
        }
      },
      "source": [
        "print(\"The mean of x from nsample=500: {}\".format(np.mean(g500[:,0])))\n",
        "print(\"The mean of x from nsample=500: {}\".format(np.mean(g5000[:,0])))\n",
        "print(\"The mean of x from nsample=500: {}\".format(np.mean(g50000[:,0])))"
      ],
      "execution_count": null,
      "outputs": [
        {
          "output_type": "stream",
          "text": [
            "The mean of x from nsample=500: 1.2444215184721337\n",
            "The mean of x from nsample=500: 1.2053567463600177\n",
            "The mean of x from nsample=500: 1.262857897134883\n"
          ],
          "name": "stdout"
        }
      ]
    },
    {
      "cell_type": "code",
      "metadata": {
        "id": "yMaIGtLKmZQQ"
      },
      "source": [
        ""
      ],
      "execution_count": null,
      "outputs": []
    }
  ]
}